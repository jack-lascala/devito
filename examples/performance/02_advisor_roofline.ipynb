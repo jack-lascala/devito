{
 "cells": [
  {
   "cell_type": "markdown",
   "metadata": {},
   "source": [
    "## Using scripts to perform Intel Advisor roofline profiling on Devito\n",
    "\n",
    "This notebook uses the prewritten scripts `run_advisor.py`, `roofline.py` and `advisor_to_json.py` to show how you can easily profile a Devito application using Intel Advisor 2020 and plot memory-bound/compute-bound roofline models depicting the current state of the application's performance. These scripts can be found in the `scripts/advisor` folder of the full Devito repository."
   ]
  },
  {
   "cell_type": "markdown",
   "metadata": {},
   "source": [
    "First, we are going to need a couple of imports to allow us to work with Devito and to run command line applications from inside this jupyter notebook. These will be needed for all three scripts."
   ]
  },
  {
   "cell_type": "code",
   "execution_count": 1,
   "metadata": {},
   "outputs": [],
   "source": [
    "import numpy as np\n",
    "from devito import *\n",
    "from IPython.display import Image\n",
    "import sys\n",
    "from subprocess import check_call"
   ]
  },
  {
   "cell_type": "markdown",
   "metadata": {},
   "source": [
    "### Setting up the Advisor environment\n",
    "\n",
    "Before running the following pieces of code, we must make sure that the Advisor environment is correctly activated on the machine you wish to use the scripts on. To do so, run the following command:\n",
    "\n",
    "`source /opt/intel/advisor/advixe-vars.sh`\n",
    "\n",
    "If your Advisor has not been installed in the `/opt/intel/advisor/advixe-vars.sh` directory, replace it with your chosen path."
   ]
  },
  {
   "cell_type": "markdown",
   "metadata": {},
   "source": [
    "### Collecting performance data with `run_advisor.py`\n",
    "\n",
    "Before generating graphical models or have data to be exported, we need to collect the performance data of our interested program. The command line that we will use is `python3 ../../scripts/advisor/run_advisor.py --path ../../benchmarks/user/benchmark.py --exec-args \"run -P acoustic -d 512 512 512 -so 4 --tn 50 --autotune off\" --output ./profilings --name JupyterProfiling`.\n",
    "\n",
    "* `--path` specifies the path of the Devito/python executable,\n",
    "* `--exec-args` specifies the command line arguments that we want to pass to our executable,\n",
    "* `--output` specifies the directory where we want to permanently save our profiling reports,\n",
    "* `--name` specifies the name of the single profiling that will be effected."
   ]
  },
  {
   "cell_type": "markdown",
   "metadata": {},
   "source": [
    "The following is some small setup to allow us to use the in-python `check_call` function from the `subprocess` package to run command line applications from code (including some python autodetection from `sys`)."
   ]
  },
  {
   "cell_type": "code",
   "execution_count": 2,
   "metadata": {},
   "outputs": [],
   "source": [
    "local_python = sys.executable\n",
    "run_advisor = '../../scripts/advisor/run_advisor.py'"
   ]
  },
  {
   "cell_type": "markdown",
   "metadata": {},
   "source": [
    "Now, set up all the command line options for the script and place the command all together."
   ]
  },
  {
   "cell_type": "code",
   "execution_count": 3,
   "metadata": {},
   "outputs": [],
   "source": [
    "test_file = '../../benchmarks/user/benchmark.py'\n",
    "exec_args = 'run -P acoustic -d 128 128 128 -so 4 --tn 100 --autotune off'\n",
    "profilings_directory = './profilings'\n",
    "profiling_name = 'JupyterProfiling'"
   ]
  },
  {
   "cell_type": "code",
   "execution_count": 4,
   "metadata": {},
   "outputs": [],
   "source": [
    "run_advisor_cmd = [local_python, run_advisor,\n",
    "                   '--path', test_file,\n",
    "                   '--exec-args', exec_args,\n",
    "                   '--output', profilings_directory,\n",
    "                   '--name', profiling_name\n",
    "                  ]"
   ]
  },
  {
   "cell_type": "markdown",
   "metadata": {},
   "source": [
    "Now, call the script on the command line to produce the profiling report in our chosen directory."
   ]
  },
  {
   "cell_type": "code",
   "execution_count": null,
   "metadata": {},
   "outputs": [],
   "source": [
    "check_call(run_advisor_cmd)"
   ]
  },
  {
   "cell_type": "markdown",
   "metadata": {},
   "source": [
    "The above call might take a few minutes depending on what machine you are running the code on, please have patience. After it is done, we have Intel Advisor data from which we can generate rooflines and export data."
   ]
  },
  {
   "cell_type": "markdown",
   "metadata": {},
   "source": [
    "### Generating a roofline model to display profiling data\n",
    "\n",
    "Now that we have collected the data inside a profiling directory, we can use the `roofline.py` script to produce a pdf of the roofline data that has been collected in the previous run. There are two visualisation modes for the generated roofline:\n",
    "* overview: displays a single point with the overall GFLOPS/s and arithmetic intensity of the program\n",
    "* top-loops: displays all points within runtime within one order of magnitude compared to the top time consuming loop\n",
    "\n",
    "First, we will produce an 'overview' roofline. The command line that we will use is `python3 ../../scripts/advisor/roofline.py --mode overview --name ./resources/OverviewRoof --project ./profilings/JupyterProfiling`.\n",
    "\n",
    "* `--mode` specifies the mode as described (either `overview` or `top-loops`)\n",
    "* `--name` specifies the name of the pdf file that will contain the roofline representation of the data\n",
    "* `--project` specifies the directory where the profiling data is stored"
   ]
  },
  {
   "cell_type": "code",
   "execution_count": null,
   "metadata": {},
   "outputs": [],
   "source": [
    "roofline = '../../scripts/advisor/roofline.py'"
   ]
  },
  {
   "cell_type": "code",
   "execution_count": null,
   "metadata": {},
   "outputs": [],
   "source": [
    "mode = 'overview'\n",
    "figure_name = './resources/OverviewRoof'\n",
    "profiling_directory = './profilings/JupyterProfiling'"
   ]
  },
  {
   "cell_type": "code",
   "execution_count": null,
   "metadata": {},
   "outputs": [],
   "source": [
    "roofline_cmd = [local_python, roofline,\n",
    "                '--mode', mode,\n",
    "                '--name', figure_name,\n",
    "                '--project', profiling_directory\n",
    "               ]"
   ]
  },
  {
   "cell_type": "markdown",
   "metadata": {},
   "source": [
    "After the command has been set up as a list, we can run it from python."
   ]
  },
  {
   "cell_type": "code",
   "execution_count": null,
   "metadata": {},
   "outputs": [],
   "source": [
    "check_call(roofline_cmd)"
   ]
  },
  {
   "cell_type": "markdown",
   "metadata": {},
   "source": [
    "Once this command has completed, we can now observe the gathered profiling data through a roofline model."
   ]
  },
  {
   "cell_type": "code",
   "execution_count": null,
   "metadata": {},
   "outputs": [],
   "source": [
    "Image(filename='./resources/OverviewRoof.png')"
   ]
  },
  {
   "cell_type": "markdown",
   "metadata": {},
   "source": [
    "Similarly, we can also produce a graph which displays the most time consuming loop alongside all other loops which have execution time within one order of magnitude from it. This is done by using `top-loops` mode."
   ]
  },
  {
   "cell_type": "markdown",
   "metadata": {},
   "source": [
    "As before, we need an initial setup of the command line to be able to run the script. Besides the mode and the name of the image which we change for convenience, everything else remains the same."
   ]
  },
  {
   "cell_type": "code",
   "execution_count": null,
   "metadata": {},
   "outputs": [],
   "source": [
    "mode = 'top-loops'\n",
    "figure_name = './resources/TopLoopsRoof'\n",
    "\n",
    "roofline_cmd = [local_python, roofline,\n",
    "                '--mode', mode,\n",
    "                '--name', figure_name,\n",
    "                '--project', profiling_directory\n",
    "               ]"
   ]
  },
  {
   "cell_type": "markdown",
   "metadata": {},
   "source": [
    "Now that the command line has been setup, let's run it to create this new image and display it."
   ]
  },
  {
   "cell_type": "code",
   "execution_count": null,
   "metadata": {},
   "outputs": [],
   "source": [
    "check_call(roofline_cmd)"
   ]
  },
  {
   "cell_type": "code",
   "execution_count": null,
   "metadata": {},
   "outputs": [],
   "source": [
    "Image(filename='./resources/TopLoopsRoof.png')"
   ]
  },
  {
   "cell_type": "markdown",
   "metadata": {},
   "source": [
    "As you can see from this roofline graph, the main point is different from the single point of the previous graph. Moreover, each point is labelled with 'Time' and 'Incidence' indicators. These represent the total execution time of each loop's main body and their percentage incidence on the total execution time of the main time loop."
   ]
  },
  {
   "cell_type": "markdown",
   "metadata": {},
   "source": [
    "### Exporting Advisor roofline data as JSON\n",
    "\n",
    "For easy and flexible exporting, the `advisor_to_json.py` script allows you to pack all the information represented within the previously seen graphs inside a JSON file. The command line which is needed to export our project's data in JSON format is: `python3 ../../scripts/advisor/advisor_to_json.py --name ./resources/RoofsData --project ./profilings/JupyterProfiling`.\n",
    "\n",
    "* `--name` specifies the name of the JSON file which will be generated\n",
    "* `--project` specifies the Advisor folder which contains all the collected data about the application"
   ]
  },
  {
   "cell_type": "markdown",
   "metadata": {},
   "source": [
    "As always, there is an initial setup of the command line which allows us to run the command from python."
   ]
  },
  {
   "cell_type": "code",
   "execution_count": null,
   "metadata": {},
   "outputs": [],
   "source": [
    "advisor_to_json = '../../scripts/advisor/advisor_to_json.py'\n",
    "json_name = './resources/RoofsData'\n",
    "profiling_directory = './profilings/JupyterProfiling'\n",
    "\n",
    "advisor_to_json_cmd = [local_python, advisor_to_json,\n",
    "                       '--name', json_name,\n",
    "                       '--project', profiling_directory\n",
    "                      ]"
   ]
  },
  {
   "cell_type": "markdown",
   "metadata": {},
   "source": [
    "Now that the command is ready, it can be run to generate our desired JSON file."
   ]
  },
  {
   "cell_type": "code",
   "execution_count": null,
   "metadata": {},
   "outputs": [],
   "source": [
    "check_call(advisor_to_json_cmd)"
   ]
  },
  {
   "cell_type": "markdown",
   "metadata": {},
   "source": [
    "We can now open the generated JSON file."
   ]
  },
  {
   "cell_type": "code",
   "execution_count": null,
   "metadata": {},
   "outputs": [],
   "source": [
    "json_file = open('./resources/RoofsData.json', 'r')\n",
    "json_file.read()"
   ]
  },
  {
   "cell_type": "markdown",
   "metadata": {},
   "source": [
    "Let's take a look at the generated JSON. Inside we can see that the file is subdivided into three sections: one to hold the points used to draw the rooflines (`roofs`), one to contain the single overview point (`overview`) and another one that contains information about the top loops as specified earlier in this tutorial (`top-loops`).\n",
    "\n",
    "By default, `advisor_to_json.py` collects both overview and top-loops data, but the information to collect can be specified using a `--mode` flag analogous to the one used in `roofline.py`."
   ]
  },
  {
   "cell_type": "markdown",
   "metadata": {
    "pycharm": {
     "name": "#%% md\n"
    }
   },
   "source": [
    "### Further flags and functionality\n",
    "\n",
    "The last two scripts contain more flags that you can use to adjust data collection, displaying and exporting.\n",
    "\n",
    "`roofline.py`:\n",
    "* `--scale` specifies how much rooflines should be scaled down due to using fewer cores than available\n",
    "* `--precision` specifies the arithmetic precision of the integral operators\n",
    "* `--th` specifies the threshold percentage over which to display loops in top-loops mode\n",
    "\n",
    "`advisor_to_json.py`:\n",
    "* `--scale`, as previously\n",
    "* `--precision`, as previously\n",
    "* `--th`, as previously\n",
    "\n",
    "If you want to learn more about what they do, add a `--help` flag to the script that you are executing."
   ]
  }
 ],
 "metadata": {
  "kernelspec": {
   "display_name": "Python 3",
   "language": "python",
   "name": "python3"
  },
  "language_info": {
   "codemirror_mode": {
    "name": "ipython",
    "version": 3
   },
   "file_extension": ".py",
   "mimetype": "text/x-python",
   "name": "python",
   "nbconvert_exporter": "python",
   "pygments_lexer": "ipython3",
   "version": "3.8.2"
  }
 },
 "nbformat": 4,
 "nbformat_minor": 4
}
